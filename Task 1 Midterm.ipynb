{
  "cells": [
    {
      "cell_type": "markdown",
      "metadata": {
        "id": "xwJ9URboyd9A"
      },
      "source": [
        "# Task 1"
      ]
    },
    {
      "cell_type": "markdown",
      "metadata": {
        "id": "Whih_3sGyjww"
      },
      "source": [
        "## Text preprocessing"
      ]
    },
    {
      "cell_type": "code",
      "execution_count": null,
      "metadata": {
        "colab": {
          "base_uri": "https://localhost:8080/"
        },
        "id": "9NiA1xmNujSY",
        "outputId": "e2f92e66-e543-499d-d44c-14b4b31042f0"
      },
      "outputs": [
        {
          "name": "stdout",
          "output_type": "stream",
          "text": [
            "Original text: KBTU University has room for improvement in providing adequate resources and support to its students.\n",
            "Tokenized and stopwords removed: ['KBTU', 'University', 'room', 'improvement', 'providing', 'adequate', 'resources', 'support', 'students', '.']\n",
            "Lemmatized: ['KBTU', 'University', 'room', 'improvement', 'provide', 'adequate', 'resource', 'support', 'student', '.']\n"
          ]
        }
      ],
      "source": [
        "import spacy\n",
        "from spacy.lang.en.stop_words import STOP_WORDS\n",
        "\n",
        "nlp = spacy.load(\"en_core_web_sm\")\n",
        "\n",
        "text = \"KBTU University has room for improvement in providing adequate resources and support to its students.\"\n",
        "\n",
        "doc = nlp(text)\n",
        "tokens = [token.text for token in doc if not token.is_stop]\n",
        "\n",
        "no_garbage_tokens = [token.lemma_ for token in doc if not token.is_stop]\n",
        "\n",
        "print(\"Original text:\", text)\n",
        "print(\"Tokenized and stopwords removed:\", tokens)\n",
        "print(\"Lemmatized:\", no_garbage_tokens)"
      ]
    },
    {
      "cell_type": "markdown",
      "metadata": {
        "id": "yp3uVRdSytdV"
      },
      "source": [
        "## Word2Vec"
      ]
    },
    {
      "cell_type": "code",
      "execution_count": null,
      "metadata": {
        "id": "HvBy2hKUutjl"
      },
      "outputs": [],
      "source": [
        "import gensim\n",
        "from gensim.models import Word2Vec\n",
        "\n",
        "sentences = [tokens]\n",
        "\n",
        "model_cbow = Word2Vec(sentences, vector_size=100, window=5, min_count=1, workers=4, sg=0)\n",
        "model_sg = Word2Vec(sentences, vector_size=100, window=5, min_count=1, workers=4, sg=1)\n",
        "\n",
        "model_cbow.save(\"word2vec_cbow.model\")\n",
        "model_sg.save(\"word2vec_sg.model\")"
      ]
    },
    {
      "cell_type": "code",
      "execution_count": null,
      "metadata": {
        "id": "qGmqveGnxLEc"
      },
      "outputs": [],
      "source": [
        "model_cbow = Word2Vec.load(\"word2vec_cbow.model\")\n",
        "model_sg = Word2Vec.load(\"word2vec_sg.model\")\n",
        "\n",
        "cbow_vector = model_cbow.wv['support']\n",
        "sg_vector = model_sg.wv['support']"
      ]
    },
    {
      "cell_type": "markdown",
      "metadata": {
        "id": "IdqJ9EyOyxsp"
      },
      "source": [
        "## GloVe"
      ]
    },
    {
      "cell_type": "code",
      "execution_count": null,
      "metadata": {
        "id": "d3md-x-bvZsx"
      },
      "outputs": [],
      "source": [
        "import gensim.downloader as api\n",
        "\n",
        "glove_vectors = api.load(\"glove-wiki-gigaword-100\")\n",
        "\n",
        "glove_vector = glove_vectors['support']\n"
      ]
    },
    {
      "cell_type": "markdown",
      "metadata": {
        "id": "qJw5kGb7y624"
      },
      "source": [
        "## FastText"
      ]
    },
    {
      "cell_type": "code",
      "execution_count": null,
      "metadata": {
        "id": "fnt-42xAwfg4"
      },
      "outputs": [],
      "source": [
        "from gensim.models import FastText\n",
        "\n",
        "model_ft = FastText(sentences, vector_size=100, window=5, min_count=1, workers=4)\n",
        "\n",
        "model_ft.save(\"fasttext.model\")\n"
      ]
    },
    {
      "cell_type": "code",
      "execution_count": null,
      "metadata": {
        "id": "5FSGQ3ZJwilg"
      },
      "outputs": [],
      "source": [
        "model_ft = FastText.load(\"fasttext.model\")\n",
        "\n",
        "ft_vector = model_ft.wv['support']\n"
      ]
    },
    {
      "cell_type": "markdown",
      "metadata": {
        "id": "YyD-lcN7zRZW"
      },
      "source": [
        "## Cosine simularity"
      ]
    },
    {
      "cell_type": "code",
      "execution_count": null,
      "metadata": {
        "colab": {
          "base_uri": "https://localhost:8080/",
          "height": 934
        },
        "id": "e2a9Fpye1I3h",
        "outputId": "20cf7a2e-dde5-4af0-8097-14f24b04456f"
      },
      "outputs": [
        {
          "name": "stdout",
          "output_type": "stream",
          "text": [
            "Cosine Similarity (GloVe vs FastText): [[0.02943169]]\n",
            "Cosine Similarity (GloVe vs Word2Vec CBOW): [[-0.08365892]]\n",
            "Cosine Similarity (GloVe vs Word2Vec Skip-gram): [[-0.08365892]]\n",
            "Cosine Similarity (FastText vs Word2Vec CBOW): [[0.29707655]]\n",
            "Cosine Similarity (FastText vs Word2Vec Skip-gram): [[0.29707655]]\n",
            "Cosine Similarity (Word2Vec CBOW vs Skip-gram): [[0.99999994]]\n"
          ]
        },
        {
          "data": {
            "image/png": "[encoded data removed]",
            "text/plain": [
              "<Figure size 1000x1000 with 1 Axes>"
            ]
          },
          "metadata": {},
          "output_type": "display_data"
        }
      ],
      "source": [
        "from sklearn.metrics.pairwise import cosine_similarity\n",
        "from sklearn.manifold import TSNE\n",
        "import matplotlib.pyplot as plt\n",
        "import numpy as np\n",
        "\n",
        "glove_vector = glove_vectors['support']\n",
        "ft_vector = model_ft.wv['support']\n",
        "cbow_vector = model_cbow.wv['support']\n",
        "sg_vector = model_sg.wv['support']\n",
        "\n",
        "glove_vector = np.array(glove_vector).reshape(1, -1)\n",
        "ft_vector = np.array(ft_vector).reshape(1, -1)\n",
        "cbow_vector = np.array(cbow_vector).reshape(1, -1)\n",
        "sg_vector = np.array(sg_vector).reshape(1, -1)\n",
        "\n",
        "similarity_glove_ft = cosine_similarity(glove_vector, ft_vector)\n",
        "print(\"Cosine Similarity (GloVe vs FastText):\", similarity_glove_ft)\n",
        "\n",
        "similarity_glove_cbow = cosine_similarity(glove_vector, cbow_vector)\n",
        "print(\"Cosine Similarity (GloVe vs Word2Vec CBOW):\", similarity_glove_cbow)\n",
        "\n",
        "similarity_glove_sg = cosine_similarity(glove_vector, sg_vector)\n",
        "print(\"Cosine Similarity (GloVe vs Word2Vec Skip-gram):\", similarity_glove_sg)\n",
        "\n",
        "similarity_ft_cbow = cosine_similarity(ft_vector, cbow_vector)\n",
        "print(\"Cosine Similarity (FastText vs Word2Vec CBOW):\", similarity_ft_cbow)\n",
        "\n",
        "similarity_ft_sg = cosine_similarity(ft_vector, sg_vector)\n",
        "print(\"Cosine Similarity (FastText vs Word2Vec Skip-gram):\", similarity_ft_sg)\n",
        "\n",
        "similarity_cbow_sg = cosine_similarity(cbow_vector, sg_vector)\n",
        "print(\"Cosine Similarity (Word2Vec CBOW vs Skip-gram):\", similarity_cbow_sg)\n",
        "\n",
        "word_embeddings = np.array([glove_vector.flatten(), ft_vector.flatten(), cbow_vector.flatten(), sg_vector.flatten()])\n",
        "\n",
        "words = [\n",
        "    'support_glove',\n",
        "    'support_ft',\n",
        "    'support_cbow',\n",
        "    'support_sg'\n",
        "]\n",
        "\n",
        "tsne = TSNE(n_components=2, perplexity=2)\n",
        "word_embeddings_2d = tsne.fit_transform(word_embeddings)\n",
        "\n",
        "plt.figure(figsize=(10, 10))\n",
        "for i, word in enumerate(words):\n",
        "    plt.scatter(word_embeddings_2d[i, 0], word_embeddings_2d[i, 1])\n",
        "    plt.annotate(word, (word_embeddings_2d[i, 0], word_embeddings_2d[i, 1]))\n",
        "plt.show()"
      ]
    },
    {
      "cell_type": "code",
      "execution_count": null,
      "metadata": {
        "colab": {
          "base_uri": "https://localhost:8080/",
          "height": 830
        },
        "id": "Ty-XJGRO1YUo",
        "outputId": "78a0a2f7-4bd2-4654-c217-f12ed8b33eb7"
      },
      "outputs": [
        {
          "data": {
            "image/png": "[encoded data removed]",
            "text/plain": [
              "<Figure size 1000x1000 with 1 Axes>"
            ]
          },
          "metadata": {},
          "output_type": "display_data"
        }
      ],
      "source": [
        "from sklearn.decomposition import PCA\n",
        "\n",
        "pca = PCA(n_components=2)\n",
        "word_embeddings_2d = pca.fit_transform(word_embeddings)\n",
        "\n",
        "plt.figure(figsize=(10, 10))\n",
        "for i, word in enumerate(words):\n",
        "    plt.scatter(word_embeddings_2d[i, 0], word_embeddings_2d[i, 1])\n",
        "    plt.annotate(word, (word_embeddings_2d[i, 0], word_embeddings_2d[i, 1]))\n",
        "plt.show()"
      ]
    }
  ],
  "metadata": {
    "accelerator": "TPU",
    "colab": {
      "collapsed_sections": [
        "xwJ9URboyd9A"
      ],
      "gpuType": "V28",
      "provenance": []
    },
    "kernelspec": {
      "display_name": "Python 3",
      "name": "python3"
    },
    "language_info": {
      "name": "python"
    }
  },
  "nbformat": 4,
  "nbformat_minor": 0
}
